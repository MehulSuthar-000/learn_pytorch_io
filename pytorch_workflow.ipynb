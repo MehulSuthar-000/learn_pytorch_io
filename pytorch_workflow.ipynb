{
 "cells": [
  {
   "cell_type": "code",
   "execution_count": 43,
   "metadata": {},
   "outputs": [],
   "source": [
    "workflow = {\n",
    "    1 : 'data (prepare and load)',\n",
    "    2 : \"build Model\",\n",
    "    3 : 'fitting the model to data (training)',\n",
    "    4 : \"making predictions and evaluating a model (inference)\",\n",
    "    5 : \"saving and loading a model\",\n",
    "    6 : \"putting it all together\"\n",
    "}"
   ]
  },
  {
   "cell_type": "markdown",
   "metadata": {},
   "source": []
  },
  {
   "cell_type": "code",
   "execution_count": 44,
   "metadata": {},
   "outputs": [
    {
     "name": "stdout",
     "output_type": "stream",
     "text": [
      "{1: 'data (prepare and load)',\n",
      " 2: 'build Model',\n",
      " 3: 'fitting the model to data (training)',\n",
      " 4: 'making predictions and evaluating a model (inference)',\n",
      " 5: 'saving and loading a model',\n",
      " 6: 'putting it all together'}\n"
     ]
    }
   ],
   "source": [
    "from pprint import pprint\n",
    "pprint(workflow)"
   ]
  },
  {
   "cell_type": "code",
   "execution_count": 45,
   "metadata": {},
   "outputs": [
    {
     "name": "stdout",
     "output_type": "stream",
     "text": [
      "2.5.1+cpu\n"
     ]
    }
   ],
   "source": [
    "import torch\n",
    "from torch import nn # nn contains all the building blocks for creating neural networks\n",
    "import matplotlib.pyplot as plt\n",
    "import numpy as np\n",
    "\n",
    "# Check PyTorch version\n",
    "print(torch.__version__)"
   ]
  },
  {
   "cell_type": "markdown",
   "metadata": {},
   "source": [
    "### 1. Data (preparing and loading)\n",
    "\n",
    "- Excel Spreadsheet\n",
    "- Image of any kind\n",
    "- Videos\n",
    "- Audio\n",
    "- DNA\n",
    "- Text\n",
    "\n",
    "1. First Represent the data\n",
    "2. Build a model to learn patterns in that numerical representation."
   ]
  },
  {
   "cell_type": "markdown",
   "metadata": {},
   "source": [
    "#### Let's Create Linear Regression\n",
    "with Known parameters"
   ]
  },
  {
   "cell_type": "code",
   "execution_count": 46,
   "metadata": {},
   "outputs": [
    {
     "data": {
      "text/plain": [
       "(tensor([[0.0000],\n",
       "         [0.0200],\n",
       "         [0.0400],\n",
       "         [0.0600],\n",
       "         [0.0800],\n",
       "         [0.1000],\n",
       "         [0.1200],\n",
       "         [0.1400],\n",
       "         [0.1600],\n",
       "         [0.1800]]),\n",
       " tensor([[0.3000],\n",
       "         [0.3140],\n",
       "         [0.3280],\n",
       "         [0.3420],\n",
       "         [0.3560],\n",
       "         [0.3700],\n",
       "         [0.3840],\n",
       "         [0.3980],\n",
       "         [0.4120],\n",
       "         [0.4260]]))"
      ]
     },
     "execution_count": 46,
     "metadata": {},
     "output_type": "execute_result"
    }
   ],
   "source": [
    "# Create Known Parameters\n",
    "weight = 0.7\n",
    "bias = 0.3\n",
    "\n",
    "# Create Data\n",
    "start = 0\n",
    "end = 1\n",
    "step = 0.02\n",
    "X = torch.arange(start, end, step).unsqueeze(dim=1)\n",
    "y = weight * X + bias\n",
    "\n",
    "X[:10], y[:10]"
   ]
  },
  {
   "cell_type": "markdown",
   "metadata": {},
   "source": [
    "#### Splitting data into training and test sets"
   ]
  },
  {
   "cell_type": "code",
   "execution_count": 47,
   "metadata": {},
   "outputs": [
    {
     "data": {
      "text/plain": [
       "(50, 50)"
      ]
     },
     "execution_count": 47,
     "metadata": {},
     "output_type": "execute_result"
    }
   ],
   "source": [
    "len(X), len(y)"
   ]
  },
  {
   "cell_type": "code",
   "execution_count": 48,
   "metadata": {},
   "outputs": [
    {
     "data": {
      "text/plain": [
       "40"
      ]
     },
     "execution_count": 48,
     "metadata": {},
     "output_type": "execute_result"
    }
   ],
   "source": [
    "# spliting 80% of the data for training and 20% for testing\n",
    "train_split = int((0.8) * len(X))\n",
    "train_split"
   ]
  },
  {
   "cell_type": "code",
   "execution_count": 49,
   "metadata": {},
   "outputs": [
    {
     "data": {
      "text/plain": [
       "(40, 40, 10, 10)"
      ]
     },
     "execution_count": 49,
     "metadata": {},
     "output_type": "execute_result"
    }
   ],
   "source": [
    "X_train, y_train = X[:train_split], y[:train_split]\n",
    "X_test, y_test = X[train_split:], y[train_split:]\n",
    "\n",
    "len(X_train), len(y_train), len(X_test), len(y_test)"
   ]
  },
  {
   "cell_type": "code",
   "execution_count": 50,
   "metadata": {},
   "outputs": [],
   "source": [
    "import matplotlib.pyplot as plt\n",
    "import seaborn as sns"
   ]
  },
  {
   "cell_type": "code",
   "execution_count": 51,
   "metadata": {},
   "outputs": [],
   "source": [
    "def plot_predictions(train_data=X_train,\n",
    "                     train_labels=y_train,\n",
    "                     test_data=X_test,\n",
    "                     test_labels=y_test,\n",
    "                     predictions=None):\n",
    "    \"\"\"\n",
    "    Plots training data, test data and compares predictions.\n",
    "    \"\"\"\n",
    "    plt.figure(figsize=(10, 7))\n",
    "\n",
    "    # Plot training data in blue\n",
    "    sns.scatterplot(x=train_data.squeeze(), y=train_labels.squeeze(), color=\"blue\", label=\"Training data\")\n",
    "\n",
    "    # Plot test data in green\n",
    "    sns.scatterplot(x=test_data.squeeze(), y=test_labels.squeeze(), color=\"green\", label=\"Testing data\")\n",
    "\n",
    "    # Add predictions (if there are any)\n",
    "    if predictions is not None:\n",
    "        sns.scatterplot(x=test_data.squeeze(),\n",
    "                        y=predictions.squeeze(),\n",
    "                        color=\"red\",\n",
    "                        label=\"Predictions\")\n",
    "    \n",
    "    # Show the legend\n",
    "    plt.legend(prop={\"size\": 12})\n",
    "    \n",
    "    plt.show()"
   ]
  },
  {
   "cell_type": "code",
   "execution_count": 52,
   "metadata": {},
   "outputs": [
    {
     "data": {
      "image/png": "[encoded data removed]",
      "text/plain": [
       "<Figure size 1000x700 with 1 Axes>"
      ]
     },
     "metadata": {},
     "output_type": "display_data"
    }
   ],
   "source": [
    "plot_predictions()"
   ]
  },
  {
   "cell_type": "markdown",
   "metadata": {},
   "source": [
    "#### Build Model"
   ]
  },
  {
   "cell_type": "code",
   "execution_count": 53,
   "metadata": {},
   "outputs": [],
   "source": [
    "# Create a linear regression model class\n",
    "class LinearRegressionModel(nn.Module):\n",
    "    def __init__(self):\n",
    "        super(LinearRegressionModel, self).__init__()\n",
    "        self.weight = nn.Parameter(torch.randn(1,\n",
    "                                   requires_grad=True,\n",
    "                                   dtype=torch.float))\n",
    "        self.bias = nn.Parameter(torch.randn(1,\n",
    "                                            requires_grad=True,\n",
    "                                            dtype=torch.float))\n",
    "        \n",
    "    def forward(self, X):\n",
    "        return X * self.weight + self.bias"
   ]
  },
  {
   "cell_type": "markdown",
   "metadata": {},
   "source": [
    "### Model Building Essentials\n",
    "\n",
    "* torch.nn.Module: A PyTorch class that contains all the layers of the model.\n",
    "* nn.Parameter: A tensor that automatically registers itself as a parameter of a Module when assigned as an attribute.\n",
    "* torch.nn: A subpackage that contains all the building blocks for creating neural networks.\n",
    "* torch.optim: A subpackage that contains various optimization algorithms.\n",
    "* torch.nn.functional: A functional API that contains all the operations that can be applied to a neural network.\n",
    "* torch.utils.data: A subpackage that contains tools for data processing.\n",
    "* torch.utils.data.Dataset: An abstract class representing a dataset.\n",
    "* torch.utils.data.DataLoader: Wraps a dataset and provides access to the underlying data.\n",
    "* torch.distributed: A package that contains the tools for distributed training.\n",
    "* torchmetrics: A package that contains various metrics for evaluating machine learning models."
   ]
  },
  {
   "cell_type": "code",
   "execution_count": 54,
   "metadata": {},
   "outputs": [
    {
     "data": {
      "text/plain": [
       "tensor([0.9408])"
      ]
     },
     "execution_count": 54,
     "metadata": {},
     "output_type": "execute_result"
    }
   ],
   "source": [
    "torch.rand(1)"
   ]
  },
  {
   "cell_type": "code",
   "execution_count": 55,
   "metadata": {},
   "outputs": [
    {
     "data": {
      "text/plain": [
       "[Parameter containing:\n",
       " tensor([0.3367], requires_grad=True),\n",
       " Parameter containing:\n",
       " tensor([0.1288], requires_grad=True)]"
      ]
     },
     "execution_count": 55,
     "metadata": {},
     "output_type": "execute_result"
    }
   ],
   "source": [
    "# Create a random seed\n",
    "torch.random.manual_seed(42)\n",
    "\n",
    "# Instantiate the model\n",
    "model = LinearRegressionModel()\n",
    "\n",
    "list(model.parameters())"
   ]
  },
  {
   "cell_type": "code",
   "execution_count": 56,
   "metadata": {},
   "outputs": [
    {
     "data": {
      "text/plain": [
       "OrderedDict([('weight', tensor([0.3367])), ('bias', tensor([0.1288]))])"
      ]
     },
     "execution_count": 56,
     "metadata": {},
     "output_type": "execute_result"
    }
   ],
   "source": [
    "model.state_dict()"
   ]
  },
  {
   "cell_type": "code",
   "execution_count": 57,
   "metadata": {},
   "outputs": [
    {
     "data": {
      "text/plain": [
       "tensor([[0.3982],\n",
       "        [0.4049],\n",
       "        [0.4116],\n",
       "        [0.4184],\n",
       "        [0.4251],\n",
       "        [0.4318],\n",
       "        [0.4386],\n",
       "        [0.4453],\n",
       "        [0.4520],\n",
       "        [0.4588]])"
      ]
     },
     "execution_count": 57,
     "metadata": {},
     "output_type": "execute_result"
    }
   ],
   "source": [
    "with torch.inference_mode():\n",
    "    y_pred = model(X_test)\n",
    "y_pred"
   ]
  },
  {
   "cell_type": "code",
   "execution_count": 58,
   "metadata": {},
   "outputs": [
    {
     "data": {
      "image/png": "[encoded data removed]",
      "text/plain": [
       "<Figure size 1000x700 with 1 Axes>"
      ]
     },
     "metadata": {},
     "output_type": "display_data"
    }
   ],
   "source": [
    "plot_predictions(predictions=y_pred)"
   ]
  },
  {
   "cell_type": "markdown",
   "metadata": {},
   "source": [
    "#### Train model"
   ]
  },
  {
   "cell_type": "code",
   "execution_count": 59,
   "metadata": {},
   "outputs": [
    {
     "data": {
      "text/plain": [
       "OrderedDict([('weight', tensor([0.3367])), ('bias', tensor([0.1288]))])"
      ]
     },
     "execution_count": 59,
     "metadata": {},
     "output_type": "execute_result"
    }
   ],
   "source": [
    "# check out our model's parameters\n",
    "model.state_dict()"
   ]
  },
  {
   "cell_type": "code",
   "execution_count": 60,
   "metadata": {},
   "outputs": [],
   "source": [
    "# setup a loss function\n",
    "loss_fn = nn.L1Loss()\n",
    "\n",
    "# setup an optimizer\n",
    "optim = torch.optim.SGD(model.parameters(),\n",
    "                        lr=0.01)"
   ]
  },
  {
   "cell_type": "markdown",
   "metadata": {},
   "source": [
    "#### Building a training loop (and a testing loop) in PyTorch\n",
    "\n",
    "Things to learn about training loop:\n",
    "0. Loop through the data.\n",
    "1. Forward pass: Make a prediction.\n",
    "2. Calculate the Loss (compare forward pass prediction to actual target).\n",
    "3. Optimizer zero grad\n",
    "4. Loss Backward - Calculate gradients of the loss with respect to model parameters.\n",
    "5. Optimizer step - Update the model parameters based on their gradients.\n"
   ]
  },
  {
   "cell_type": "code",
   "execution_count": 61,
   "metadata": {},
   "outputs": [
    {
     "name": "stdout",
     "output_type": "stream",
     "text": [
      "Epoch [0/200]. Loss: 0.3129. Test Loss: 0.4811\n",
      "Epoch [10/200]. Loss: 0.1977. Test Loss: 0.3464\n",
      "Epoch [20/200]. Loss: 0.0891. Test Loss: 0.2173\n",
      "Epoch [30/200]. Loss: 0.0531. Test Loss: 0.1446\n",
      "Epoch [40/200]. Loss: 0.0454. Test Loss: 0.1136\n",
      "Epoch [50/200]. Loss: 0.0417. Test Loss: 0.0992\n",
      "Epoch [60/200]. Loss: 0.0382. Test Loss: 0.0889\n",
      "Epoch [70/200]. Loss: 0.0348. Test Loss: 0.0806\n",
      "Epoch [80/200]. Loss: 0.0313. Test Loss: 0.0723\n",
      "Epoch [90/200]. Loss: 0.0279. Test Loss: 0.0647\n",
      "Epoch [100/200]. Loss: 0.0245. Test Loss: 0.0565\n",
      "Epoch [110/200]. Loss: 0.0210. Test Loss: 0.0482\n",
      "Epoch [120/200]. Loss: 0.0176. Test Loss: 0.0406\n",
      "Epoch [130/200]. Loss: 0.0142. Test Loss: 0.0323\n",
      "Epoch [140/200]. Loss: 0.0107. Test Loss: 0.0241\n",
      "Epoch [150/200]. Loss: 0.0073. Test Loss: 0.0165\n",
      "Epoch [160/200]. Loss: 0.0039. Test Loss: 0.0082\n",
      "Epoch [170/200]. Loss: 0.0089. Test Loss: 0.0050\n",
      "Epoch [180/200]. Loss: 0.0089. Test Loss: 0.0050\n",
      "Epoch [190/200]. Loss: 0.0089. Test Loss: 0.0050\n"
     ]
    }
   ],
   "source": [
    "### An epoch is one loop through the data....\n",
    "epochs = 200\n",
    "\n",
    "epoch_count = []\n",
    "loss_values = []\n",
    "test_loss_values = []\n",
    "\n",
    "#### Training \n",
    "# 0. Loop through thee data\n",
    "for epoch in range(epochs):\n",
    "    # Set the model to training mode\n",
    "    model.train() # train model in PyTorch set all parameters that require grad to True\n",
    "\n",
    "    # 1. Forward pass\n",
    "    y_pred = model(X_train)\n",
    "\n",
    "    # 2. Calculate loss\n",
    "    loss = loss_fn(y_pred, y_train)\n",
    "\n",
    "    # 3. Zero all the gradients\n",
    "    optim.zero_grad()\n",
    "\n",
    "    # 4. Perform backpropagation on the loss with respect to the model parameters\n",
    "    loss.backward()\n",
    "\n",
    "    # 5. Take a step with the optimizer\n",
    "    optim.step()\n",
    "    # By default PyTorch changes the values of the model parameters in-place, so we don't have to update the model parameters ourselves\n",
    "    # also thee gradients are accumulated in the model parameters so we have to zero them out after each epoch\n",
    "\n",
    "    \n",
    "\n",
    "    # Testing the model\n",
    "    model.eval() # eval model in PyTorch set all parameters that require grad to False\n",
    "    with torch.inference_mode(): # turns off gradient tracking and autograd engine also turns off dropout and batch normalization layers \n",
    "        # Forward Pass\n",
    "        y_pred = model(X_test)\n",
    "\n",
    "        # Calculate loss\n",
    "        test_loss = loss_fn(y_pred, y_test)\n",
    "\n",
    "    # Print the loss every 10 epochs\n",
    "    if epoch % 10 == 0:\n",
    "        epoch_count.append(epoch)\n",
    "        loss_values.append(loss)\n",
    "        test_loss_values.append(test_loss)\n",
    "        print(f\"Epoch [{epoch}/{epochs}]. Loss: {loss.item():.4f}. Test Loss: {test_loss.item():.4f}\")\n"
   ]
  },
  {
   "cell_type": "code",
   "execution_count": 62,
   "metadata": {},
   "outputs": [],
   "source": [
    "# Epoch [90/100]. Loss: 0.0089. Test Loss: 0.0050"
   ]
  },
  {
   "cell_type": "code",
   "execution_count": 63,
   "metadata": {},
   "outputs": [
    {
     "data": {
      "text/plain": [
       "OrderedDict([('weight', tensor([0.6990])), ('bias', tensor([0.3093]))])"
      ]
     },
     "execution_count": 63,
     "metadata": {},
     "output_type": "execute_result"
    }
   ],
   "source": [
    "model.state_dict()"
   ]
  },
  {
   "cell_type": "code",
   "execution_count": 64,
   "metadata": {},
   "outputs": [
    {
     "data": {
      "image/png": "[encoded data removed]",
      "text/plain": [
       "<Figure size 1000x700 with 1 Axes>"
      ]
     },
     "metadata": {},
     "output_type": "display_data"
    }
   ],
   "source": [
    "with torch.inference_mode():\n",
    "    y_pred = model(X_test)\n",
    "\n",
    "plot_predictions(predictions=y_pred)"
   ]
  },
  {
   "cell_type": "code",
   "execution_count": 65,
   "metadata": {},
   "outputs": [
    {
     "data": {
      "image/png": "[encoded data removed]",
      "text/plain": [
       "<Figure size 1000x700 with 1 Axes>"
      ]
     },
     "metadata": {},
     "output_type": "display_data"
    }
   ],
   "source": [
    "# plot the loss curve\n",
    "plt.figure(figsize=(10, 7))\n",
    "plt.plot(epoch_count, torch.tensor(loss_values).detach().numpy(), label=\"Training Loss\")\n",
    "plt.plot(epoch_count, test_loss_values, label=\"Test Loss\")\n",
    "plt.title(\"Loss vs. Epochs\")\n",
    "plt.xlabel(\"Epochs\")\n",
    "plt.ylabel(\"Loss\")\n",
    "plt.legend()\n",
    "plt.show()"
   ]
  },
  {
   "cell_type": "markdown",
   "metadata": {},
   "source": [
    "#### Saving a model in PyTorch\n",
    "\n",
    "There are three main methods you should know about saving and loading models in PyTorch.\n",
    "\n",
    "1. `torch.save()` : This saves a model's state dictionary, which contains all the parameters of the model.\n",
    "2. `torch.load()` : This loads a model's state dictionary.\n",
    "3. `torch.nn.Module.load_state_dict()` : This loads a model's state dictionary into a model."
   ]
  },
  {
   "cell_type": "code",
   "execution_count": 66,
   "metadata": {},
   "outputs": [
    {
     "data": {
      "text/plain": [
       "WindowsPath('model/01_pytorch_workflow_model_0.pth')"
      ]
     },
     "execution_count": 66,
     "metadata": {},
     "output_type": "execute_result"
    }
   ],
   "source": [
    "# Saving our PyTorch model\n",
    "from pathlib import Path\n",
    "\n",
    "# 1. Create a model directory\n",
    "MODEL_PATH = Path(\"model\")\n",
    "MODEL_PATH.mkdir(parents=True, exist_ok=True)\n",
    "\n",
    "# 2. Create a model save path\n",
    "MODEL_NAME = '01_pytorch_workflow_model_0.pth'\n",
    "MODEL_SAVE_PATH = MODEL_PATH / MODEL_NAME\n",
    "\n",
    "MODEL_SAVE_PATH"
   ]
  },
  {
   "cell_type": "code",
   "execution_count": 67,
   "metadata": {},
   "outputs": [],
   "source": [
    "torch.save(model.state_dict(), MODEL_SAVE_PATH)"
   ]
  },
  {
   "cell_type": "markdown",
   "metadata": {},
   "source": [
    "### Loading our PyTorch model\n",
    "\n",
    "Since wee saved our model state_dict to a file, we can load it back in using torch.load and then load it into a new model instance using model.load_state_dict. \n",
    "This is useful if you've trained a model and want to use it to make predictions on new data.    "
   ]
  },
  {
   "cell_type": "code",
   "execution_count": 68,
   "metadata": {},
   "outputs": [],
   "source": [
    "# To load in a saved state_dict we have to create a new model with the same parameters as the original model\n",
    "\n",
    "loaded_model_0 = LinearRegressionModel()\n",
    "\n",
    "# Loade the saved state_dict into the model"
   ]
  },
  {
   "cell_type": "code",
   "execution_count": 69,
   "metadata": {},
   "outputs": [
    {
     "data": {
      "text/plain": [
       "OrderedDict([('weight', tensor([0.2345])), ('bias', tensor([0.2303]))])"
      ]
     },
     "execution_count": 69,
     "metadata": {},
     "output_type": "execute_result"
    }
   ],
   "source": [
    "loaded_model_0.state_dict()"
   ]
  },
  {
   "cell_type": "code",
   "execution_count": 70,
   "metadata": {},
   "outputs": [
    {
     "data": {
      "text/plain": [
       "<All keys matched successfully>"
      ]
     },
     "execution_count": 70,
     "metadata": {},
     "output_type": "execute_result"
    }
   ],
   "source": [
    "loaded_model_0.load_state_dict(torch.load(MODEL_SAVE_PATH, weights_only=True))"
   ]
  },
  {
   "cell_type": "code",
   "execution_count": 71,
   "metadata": {},
   "outputs": [
    {
     "data": {
      "text/plain": [
       "OrderedDict([('weight', tensor([0.6990])), ('bias', tensor([0.3093]))])"
      ]
     },
     "execution_count": 71,
     "metadata": {},
     "output_type": "execute_result"
    }
   ],
   "source": [
    "loaded_model_0.state_dict()"
   ]
  },
  {
   "cell_type": "code",
   "execution_count": null,
   "metadata": {},
   "outputs": [],
   "source": [
    "# Makee some predictions with the loaded model\n",
    "loaded_model_0.eval()\n",
    "with torch.inference_mode():\n",
    "    loaded_model_preds = loaded_model_0(X_test)"
   ]
  },
  {
   "cell_type": "code",
   "execution_count": 73,
   "metadata": {},
   "outputs": [
    {
     "data": {
      "text/plain": [
       "tensor([[True],\n",
       "        [True],\n",
       "        [True],\n",
       "        [True],\n",
       "        [True],\n",
       "        [True],\n",
       "        [True],\n",
       "        [True],\n",
       "        [True],\n",
       "        [True]])"
      ]
     },
     "execution_count": 73,
     "metadata": {},
     "output_type": "execute_result"
    }
   ],
   "source": [
    "loaded_model_preds == y_pred"
   ]
  },
  {
   "cell_type": "code",
   "execution_count": null,
   "metadata": {},
   "outputs": [],
   "source": []
  }
 ],
 "metadata": {
  "kernelspec": {
   "display_name": "Python 3",
   "language": "python",
   "name": "python3"
  },
  "language_info": {
   "codemirror_mode": {
    "name": "ipython",
    "version": 3
   },
   "file_extension": ".py",
   "mimetype": "text/x-python",
   "name": "python",
   "nbconvert_exporter": "python",
   "pygments_lexer": "ipython3",
   "version": "3.12.5"
  }
 },
 "nbformat": 4,
 "nbformat_minor": 2
}
